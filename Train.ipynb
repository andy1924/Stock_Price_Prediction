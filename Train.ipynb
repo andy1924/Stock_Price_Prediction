{
 "cells": [
  {
   "cell_type": "code",
   "execution_count": 150,
   "id": "74a4f2ef-8717-4dbc-b865-c6f90bb88eda",
   "metadata": {},
   "outputs": [
    {
     "data": {
      "text/html": [
       "<div>\n",
       "<style scoped>\n",
       "    .dataframe tbody tr th:only-of-type {\n",
       "        vertical-align: middle;\n",
       "    }\n",
       "\n",
       "    .dataframe tbody tr th {\n",
       "        vertical-align: top;\n",
       "    }\n",
       "\n",
       "    .dataframe thead th {\n",
       "        text-align: right;\n",
       "    }\n",
       "</style>\n",
       "<table border=\"1\" class=\"dataframe\">\n",
       "  <thead>\n",
       "    <tr style=\"text-align: right;\">\n",
       "      <th></th>\n",
       "      <th>DATE</th>\n",
       "      <th>TATASTEEL</th>\n",
       "    </tr>\n",
       "  </thead>\n",
       "  <tbody>\n",
       "    <tr>\n",
       "      <th>0</th>\n",
       "      <td>11-01-2010</td>\n",
       "      <td>591.90</td>\n",
       "    </tr>\n",
       "    <tr>\n",
       "      <th>1</th>\n",
       "      <td>12-01-2010</td>\n",
       "      <td>613.55</td>\n",
       "    </tr>\n",
       "    <tr>\n",
       "      <th>2</th>\n",
       "      <td>11-02-2010</td>\n",
       "      <td>599.05</td>\n",
       "    </tr>\n",
       "    <tr>\n",
       "      <th>3</th>\n",
       "      <td>12-02-2010</td>\n",
       "      <td>622.75</td>\n",
       "    </tr>\n",
       "    <tr>\n",
       "      <th>4</th>\n",
       "      <td>11-03-2010</td>\n",
       "      <td>609.60</td>\n",
       "    </tr>\n",
       "    <tr>\n",
       "      <th>...</th>\n",
       "      <td>...</td>\n",
       "      <td>...</td>\n",
       "    </tr>\n",
       "    <tr>\n",
       "      <th>2706</th>\n",
       "      <td>05-10-2021</td>\n",
       "      <td>1216.35</td>\n",
       "    </tr>\n",
       "    <tr>\n",
       "      <th>2707</th>\n",
       "      <td>06-10-2021</td>\n",
       "      <td>1114.45</td>\n",
       "    </tr>\n",
       "    <tr>\n",
       "      <th>2708</th>\n",
       "      <td>08-10-2021</td>\n",
       "      <td>1373.60</td>\n",
       "    </tr>\n",
       "    <tr>\n",
       "      <th>2709</th>\n",
       "      <td>13-10-2021</td>\n",
       "      <td>1354.30</td>\n",
       "    </tr>\n",
       "    <tr>\n",
       "      <th>2710</th>\n",
       "      <td>14-10-2021</td>\n",
       "      <td>1375.05</td>\n",
       "    </tr>\n",
       "  </tbody>\n",
       "</table>\n",
       "<p>2711 rows × 2 columns</p>\n",
       "</div>"
      ],
      "text/plain": [
       "            DATE  TATASTEEL\n",
       "0     11-01-2010     591.90\n",
       "1     12-01-2010     613.55\n",
       "2     11-02-2010     599.05\n",
       "3     12-02-2010     622.75\n",
       "4     11-03-2010     609.60\n",
       "...          ...        ...\n",
       "2706  05-10-2021    1216.35\n",
       "2707  06-10-2021    1114.45\n",
       "2708  08-10-2021    1373.60\n",
       "2709  13-10-2021    1354.30\n",
       "2710  14-10-2021    1375.05\n",
       "\n",
       "[2711 rows x 2 columns]"
      ]
     },
     "execution_count": 150,
     "metadata": {},
     "output_type": "execute_result"
    }
   ],
   "source": [
    "import pandas as pd\n",
    "file_path = 'Final-50-stocks.csv'\n",
    "stock_data = pd.read_csv(file_path)\n",
    "stock_data"
   ]
  },
  {
   "cell_type": "code",
   "execution_count": 152,
   "id": "1e137a13-4002-4481-a1fe-a8c1cf9a7ef2",
   "metadata": {},
   "outputs": [],
   "source": [
    "stock_data['TATASTEEL_Target'] = (stock_data['TATASTEEL'].shift(-1) > stock_data['TATASTEEL']).astype(int)\n",
    "cleaned_data = stock_data.dropna()\n",
    "features = cleaned_data.drop(columns=['TATASTEEL_Target', 'DATE'])\n",
    "target = cleaned_data['TATASTEEL_Target']"
   ]
  },
  {
   "cell_type": "code",
   "execution_count": 172,
   "id": "cf0eedcf-f0e1-4e2c-a019-d7398a54b97a",
   "metadata": {},
   "outputs": [
    {
     "data": {
      "text/plain": [
       "0.5414364640883977"
      ]
     },
     "execution_count": 172,
     "metadata": {},
     "output_type": "execute_result"
    }
   ],
   "source": [
    "from sklearn.model_selection import train_test_split\n",
    "from sklearn.linear_model import LogisticRegression\n",
    "from sklearn.metrics import accuracy_score\n",
    "\n",
    "X_train, X_test, y_train, y_test = train_test_split(features, target, test_size=0.2)\n",
    "\n",
    "model = LogisticRegression(max_iter=1000)\n",
    "model.fit(X_train, y_train)\n",
    "prediction  = model.predict(X_test)\n",
    "\n",
    "accuracy = accuracy_score(y_test, prediction)\n",
    "accuracy"
   ]
  },
  {
   "cell_type": "code",
   "execution_count": 156,
   "id": "18cd9eb3-6ee6-4eb7-80f2-fd8ccb2e7923",
   "metadata": {},
   "outputs": [
    {
     "data": {
      "text/plain": [
       "['trained_model.pkl']"
      ]
     },
     "execution_count": 156,
     "metadata": {},
     "output_type": "execute_result"
    }
   ],
   "source": [
    "import joblib\n",
    "joblib.dump(model,\"trained_model.pkl\")"
   ]
  },
  {
   "cell_type": "code",
   "execution_count": 158,
   "id": "b37c0bc8-653c-49d9-ad02-933d375427d1",
   "metadata": {},
   "outputs": [
    {
     "name": "stdin",
     "output_type": "stream",
     "text": [
      "today's stock price 155.65\n"
     ]
    },
    {
     "name": "stderr",
     "output_type": "stream",
     "text": [
      "C:\\Users\\Arnav Deshpande\\anaconda3\\Lib\\site-packages\\sklearn\\base.py:493: UserWarning: X does not have valid feature names, but LogisticRegression was fitted with feature names\n",
      "  warnings.warn(\n"
     ]
    },
    {
     "data": {
      "text/plain": [
       "array([1])"
      ]
     },
     "execution_count": 158,
     "metadata": {},
     "output_type": "execute_result"
    }
   ],
   "source": [
    "model = joblib.load(\"trained_model.pkl\")\n",
    "stk_price = float(input(\"today's stock price\"))\n",
    "prediction = model.predict([[stk_price]])\n",
    "prediction"
   ]
  },
  {
   "cell_type": "code",
   "execution_count": null,
   "id": "6aa250b8-0d9b-4326-89ed-ced90f5cea43",
   "metadata": {},
   "outputs": [],
   "source": []
  }
 ],
 "metadata": {
  "kernelspec": {
   "display_name": "Python 3 (ipykernel)",
   "language": "python",
   "name": "python3"
  },
  "language_info": {
   "codemirror_mode": {
    "name": "ipython",
    "version": 3
   },
   "file_extension": ".py",
   "mimetype": "text/x-python",
   "name": "python",
   "nbconvert_exporter": "python",
   "pygments_lexer": "ipython3",
   "version": "3.12.4"
  }
 },
 "nbformat": 4,
 "nbformat_minor": 5
}
